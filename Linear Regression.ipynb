{
 "cells": [
  {
   "cell_type": "markdown",
   "metadata": {},
   "source": [
    "# Building Linear Regression Model <br>\n",
    "### Question : How does study hours affect exam score? <br>\n",
    "### Purpose : To know the relationship of study hours and exam score.\n",
    "### How we find the answer for question : Use Linear Regression model to output the answer of how study hours affect exam score"
   ]
  },
  {
   "cell_type": "code",
   "execution_count": 1,
   "metadata": {},
   "outputs": [],
   "source": [
    "# import library\n",
    "import pandas as pd\n",
    "import numpy as np\n",
    "import matplotlib.pyplot as plt"
   ]
  },
  {
   "cell_type": "code",
   "execution_count": 3,
   "metadata": {},
   "outputs": [],
   "source": [
    "# import data\n",
    "edu = pd.read_csv(\"study_hours_vs_exam_score.csv\")"
   ]
  },
  {
   "cell_type": "code",
   "execution_count": null,
   "metadata": {},
   "outputs": [
    {
     "data": {
      "text/html": [
       "<div>\n",
       "<style scoped>\n",
       "    .dataframe tbody tr th:only-of-type {\n",
       "        vertical-align: middle;\n",
       "    }\n",
       "\n",
       "    .dataframe tbody tr th {\n",
       "        vertical-align: top;\n",
       "    }\n",
       "\n",
       "    .dataframe thead th {\n",
       "        text-align: right;\n",
       "    }\n",
       "</style>\n",
       "<table border=\"1\" class=\"dataframe\">\n",
       "  <thead>\n",
       "    <tr style=\"text-align: right;\">\n",
       "      <th></th>\n",
       "      <th>Study_Hours</th>\n",
       "      <th>Exam_Score</th>\n",
       "    </tr>\n",
       "  </thead>\n",
       "  <tbody>\n",
       "    <tr>\n",
       "      <th>0</th>\n",
       "      <td>0.749080</td>\n",
       "      <td>3.865304</td>\n",
       "    </tr>\n",
       "    <tr>\n",
       "      <th>1</th>\n",
       "      <td>1.901429</td>\n",
       "      <td>7.705496</td>\n",
       "    </tr>\n",
       "    <tr>\n",
       "      <th>2</th>\n",
       "      <td>1.463988</td>\n",
       "      <td>6.369838</td>\n",
       "    </tr>\n",
       "    <tr>\n",
       "      <th>3</th>\n",
       "      <td>1.197317</td>\n",
       "      <td>4.396825</td>\n",
       "    </tr>\n",
       "    <tr>\n",
       "      <th>4</th>\n",
       "      <td>0.312037</td>\n",
       "      <td>2.182295</td>\n",
       "    </tr>\n",
       "    <tr>\n",
       "      <th>...</th>\n",
       "      <td>...</td>\n",
       "      <td>...</td>\n",
       "    </tr>\n",
       "    <tr>\n",
       "      <th>95</th>\n",
       "      <td>0.987591</td>\n",
       "      <td>4.248664</td>\n",
       "    </tr>\n",
       "    <tr>\n",
       "      <th>96</th>\n",
       "      <td>1.045466</td>\n",
       "      <td>4.820579</td>\n",
       "    </tr>\n",
       "    <tr>\n",
       "      <th>97</th>\n",
       "      <td>0.855082</td>\n",
       "      <td>4.363363</td>\n",
       "    </tr>\n",
       "    <tr>\n",
       "      <th>98</th>\n",
       "      <td>0.050838</td>\n",
       "      <td>1.516279</td>\n",
       "    </tr>\n",
       "    <tr>\n",
       "      <th>99</th>\n",
       "      <td>0.215783</td>\n",
       "      <td>2.368832</td>\n",
       "    </tr>\n",
       "  </tbody>\n",
       "</table>\n",
       "<p>100 rows × 2 columns</p>\n",
       "</div>"
      ],
      "text/plain": [
       "    Study_Hours  Exam_Score\n",
       "0      0.749080    3.865304\n",
       "1      1.901429    7.705496\n",
       "2      1.463988    6.369838\n",
       "3      1.197317    4.396825\n",
       "4      0.312037    2.182295\n",
       "..          ...         ...\n",
       "95     0.987591    4.248664\n",
       "96     1.045466    4.820579\n",
       "97     0.855082    4.363363\n",
       "98     0.050838    1.516279\n",
       "99     0.215783    2.368832\n",
       "\n",
       "[100 rows x 2 columns]"
      ]
     },
     "execution_count": 5,
     "metadata": {},
     "output_type": "execute_result"
    }
   ],
   "source": [
    "# check data\n",
    "edu"
   ]
  },
  {
   "cell_type": "markdown",
   "metadata": {},
   "source": [
    "## Linear Regression : Draw the line through the points of data which give the least residuals. <br>\n",
    "### MSE : Mean Squared Error -> (1/n) * sum of (y - y_hat)**2 <br>\n",
    "n = Number of observations <br>\n",
    "y = Actual value of y <br>\n",
    "y_hat = Fitted value of y <br><br>\n",
    "## From Linear Regression's concept, we want to minimize the residuals. <br>\n",
    "## So, we use calculas to find the gredient descent (loss function). <br>\n",
    "### residuals = y - y_hat\n",
    "y_hat = b0 + b1 * x\n",
    "### residuals = y - (b0 + b1 * x)\n",
    "b0 = constant \n",
    "b1 = coefficient of x\n",
    "x = independent variable (study hours)\n",
    "### MSE = (1/n) * sum of (y - (b0 + b1 * x))**2\n",
    "### dMSE/db0 = -(2/n) * sum of (y - b0 - b1 * x) * (1) --> gradient of b0\n",
    "### dMSE/db1 = -(2/n) * sum of (y - b0 - b1 * x) * (x) --> gradient of b1 <br><br>\n",
    "## Then, we use these gradient multiplying with learning level to make the machine learn the mistake from the model.\n",
    "### b0 = b0 - gradient of b0 * learning rate -> b0 minus the error from 1 unit increasing b0 because we want to remove the error until it's the least value.\n",
    "### b1 = b1 - gradient of b1 * learning rate -> b1 minus the error from 1 unit increasing b1 because we want to remove the error until it's the least value.\n",
    "## Then, we will get b0 and b1"
   ]
  },
  {
   "cell_type": "markdown",
   "metadata": {},
   "source": []
  },
  {
   "cell_type": "code",
   "execution_count": null,
   "metadata": {},
   "outputs": [],
   "source": [
    "# define the loss fucntion\n",
    "def gradient_descent(b0,b1,points,learning_level):\n",
    "    b0_gradient = 0\n",
    "    b1_gradient = 0\n",
    "    n = len(points)\n",
    "    # For loop for accumulating the gradient (sum of -(2/n) * (y - b0 - b1 * x) *)\n",
    "    for i in range(len(points)):\n",
    "        x = points.iloc[i,0]\n",
    "        y = points.iloc[i,1]\n",
    "        b0_gradient += -(2/n) * (y - b0 - b1 * x)\n",
    "        b1_gradient += -(2/n) * (y - b0 - b1 * x) * x\n",
    "    b0 = b0 - b0_gradient * learning_level\n",
    "    b1 = b1 - b1_gradient * learning_level\n",
    "    return b0,b1\n",
    "\n",
    "# define the function for inputting the data , learning rate, and number of iterative process\n",
    "def simreg(dataset,learning_level,epochs):  \n",
    "    b0 = 0\n",
    "    b1 = 0\n",
    "    L = learning_level\n",
    "    for x in range(epochs):\n",
    "       b0,b1 = gradient_descent(b0,b1,dataset,L)\n",
    "\n",
    "    print(f\"intercept is {b0}\")\n",
    "    print(f\"slope is {b1}\")\n",
    "\n",
    "# plot the scotter plot and draw fitted line\n",
    "    plt.scatter(dataset.iloc[:,0],dataset.iloc[:,1])\n",
    "    plt.plot(np.linspace(dataset.iloc[:,0].min(),dataset.iloc[:,0].max(),100),b0 + b1 * np.linspace(dataset.iloc[:,0].min(),dataset.iloc[:,0].max(),100),color = \"red\")\n",
    "    plt.xlabel(\"Study Time\")\n",
    "    plt.ylabel(\"Exam Score\")\n",
    "    plt.title('Relationship between \"Study Time\" & \"Exam Score\"')\n",
    "    print(f\"Linear Equation : SCORE = {b0} + {b1} x STUDY_TIME\" )"
   ]
  },
  {
   "cell_type": "code",
   "execution_count": 30,
   "metadata": {},
   "outputs": [
    {
     "name": "stdout",
     "output_type": "stream",
     "text": [
      "intercept is 1.3390771469466247\n",
      "slope is 3.3572182397795545\n",
      "Linear Equation : SCORE = 1.3390771469466247 + 3.3572182397795545 x STUDY_TIME\n"
     ]
    },
    {
     "data": {
      "image/png": "[encoded data removed]",
      "text/plain": [
       "<Figure size 640x480 with 1 Axes>"
      ]
     },
     "metadata": {},
     "output_type": "display_data"
    }
   ],
   "source": [
    "simreg(edu,0.01,1000)"
   ]
  },
  {
   "cell_type": "markdown",
   "metadata": {},
   "source": [
    "## Interpretation : If study time increase 1 hour, exam score will approximately increase 3.3572 point "
   ]
  },
  {
   "cell_type": "markdown",
   "metadata": {},
   "source": []
  }
 ],
 "metadata": {
  "kernelspec": {
   "display_name": "Python 3",
   "language": "python",
   "name": "python3"
  },
  "language_info": {
   "codemirror_mode": {
    "name": "ipython",
    "version": 3
   },
   "file_extension": ".py",
   "mimetype": "text/x-python",
   "name": "python",
   "nbconvert_exporter": "python",
   "pygments_lexer": "ipython3",
   "version": "3.12.1"
  }
 },
 "nbformat": 4,
 "nbformat_minor": 2
}
